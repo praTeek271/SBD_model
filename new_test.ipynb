{
  "cells": [
    {
      "cell_type": "code",
      "execution_count": null,
      "metadata": {
        "id": "FiU9GpuP0dOX"
      },
      "outputs": [],
      "source": [
        "# !pip install datasets"
      ]
    },
    {
      "cell_type": "code",
      "execution_count": null,
      "metadata": {
        "id": "hjeqYJSf0dOZ"
      },
      "outputs": [],
      "source": [
        "# from datasets import load_dataset\n",
        "\n",
        "# dataset = load_dataset(\"Ram07/Detection-for-Suicide\")\n"
      ]
    },
    {
      "cell_type": "markdown",
      "metadata": {
        "id": "F3eEj4HK0dOZ"
      },
      "source": [
        "---"
      ]
    },
    {
      "cell_type": "code",
      "execution_count": 1,
      "metadata": {
        "colab": {
          "base_uri": "https://localhost:8080/"
        },
        "id": "dpic_uLZ0dOa",
        "outputId": "13aedecb-62bd-469f-c4c8-2ad3d335e1e5"
      },
      "outputs": [
        {
          "name": "stdout",
          "output_type": "stream",
          "text": [
            "Collecting nltk\n",
            "  Using cached nltk-3.8.1-py3-none-any.whl.metadata (2.8 kB)\n",
            "Collecting click (from nltk)\n",
            "  Using cached click-8.1.7-py3-none-any.whl.metadata (3.0 kB)\n",
            "Collecting joblib (from nltk)\n",
            "  Using cached joblib-1.3.2-py3-none-any.whl.metadata (5.4 kB)\n",
            "Collecting regex>=2021.8.3 (from nltk)\n",
            "  Using cached regex-2023.12.25-cp312-cp312-win_amd64.whl.metadata (41 kB)\n",
            "Collecting tqdm (from nltk)\n",
            "  Using cached tqdm-4.66.2-py3-none-any.whl.metadata (57 kB)\n",
            "Requirement already satisfied: colorama in d:\\lucifer-drive\\programs\\suicide-rate-prediction-with-machine-learning-master\\suicide-rate-prediction-with-machine-learning-master\\ev_ker\\lib\\site-packages (from click->nltk) (0.4.6)\n",
            "Using cached nltk-3.8.1-py3-none-any.whl (1.5 MB)\n",
            "Using cached regex-2023.12.25-cp312-cp312-win_amd64.whl (268 kB)\n",
            "Using cached click-8.1.7-py3-none-any.whl (97 kB)\n",
            "Using cached joblib-1.3.2-py3-none-any.whl (302 kB)\n",
            "Using cached tqdm-4.66.2-py3-none-any.whl (78 kB)\n",
            "Installing collected packages: tqdm, regex, joblib, click, nltk\n",
            "Successfully installed click-8.1.7 joblib-1.3.2 nltk-3.8.1 regex-2023.12.25 tqdm-4.66.2\n",
            "Collecting scikit-learn\n",
            "  Using cached scikit_learn-1.4.1.post1-cp312-cp312-win_amd64.whl.metadata (11 kB)\n",
            "Collecting numpy<2.0,>=1.19.5 (from scikit-learn)\n",
            "  Using cached numpy-1.26.4-cp312-cp312-win_amd64.whl.metadata (61 kB)\n",
            "Collecting scipy>=1.6.0 (from scikit-learn)\n",
            "  Using cached scipy-1.12.0-cp312-cp312-win_amd64.whl.metadata (60 kB)\n",
            "Requirement already satisfied: joblib>=1.2.0 in d:\\lucifer-drive\\programs\\suicide-rate-prediction-with-machine-learning-master\\suicide-rate-prediction-with-machine-learning-master\\ev_ker\\lib\\site-packages (from scikit-learn) (1.3.2)\n",
            "Collecting threadpoolctl>=2.0.0 (from scikit-learn)\n",
            "  Downloading threadpoolctl-3.4.0-py3-none-any.whl.metadata (13 kB)\n",
            "Using cached scikit_learn-1.4.1.post1-cp312-cp312-win_amd64.whl (10.6 MB)\n",
            "Using cached numpy-1.26.4-cp312-cp312-win_amd64.whl (15.5 MB)\n",
            "Using cached scipy-1.12.0-cp312-cp312-win_amd64.whl (45.8 MB)\n",
            "Downloading threadpoolctl-3.4.0-py3-none-any.whl (17 kB)\n",
            "Installing collected packages: threadpoolctl, numpy, scipy, scikit-learn\n",
            "Successfully installed numpy-1.26.4 scikit-learn-1.4.1.post1 scipy-1.12.0 threadpoolctl-3.4.0\n",
            "Collecting pandas\n",
            "  Using cached pandas-2.2.1-cp312-cp312-win_amd64.whl.metadata (19 kB)\n",
            "Requirement already satisfied: numpy<2,>=1.26.0 in d:\\lucifer-drive\\programs\\suicide-rate-prediction-with-machine-learning-master\\suicide-rate-prediction-with-machine-learning-master\\ev_ker\\lib\\site-packages (from pandas) (1.26.4)\n",
            "Requirement already satisfied: python-dateutil>=2.8.2 in d:\\lucifer-drive\\programs\\suicide-rate-prediction-with-machine-learning-master\\suicide-rate-prediction-with-machine-learning-master\\ev_ker\\lib\\site-packages (from pandas) (2.9.0.post0)\n",
            "Collecting pytz>=2020.1 (from pandas)\n",
            "  Using cached pytz-2024.1-py2.py3-none-any.whl.metadata (22 kB)\n",
            "Collecting tzdata>=2022.7 (from pandas)\n",
            "  Using cached tzdata-2024.1-py2.py3-none-any.whl.metadata (1.4 kB)\n",
            "Requirement already satisfied: six>=1.5 in d:\\lucifer-drive\\programs\\suicide-rate-prediction-with-machine-learning-master\\suicide-rate-prediction-with-machine-learning-master\\ev_ker\\lib\\site-packages (from python-dateutil>=2.8.2->pandas) (1.16.0)\n",
            "Using cached pandas-2.2.1-cp312-cp312-win_amd64.whl (11.5 MB)\n",
            "Using cached pytz-2024.1-py2.py3-none-any.whl (505 kB)\n",
            "Using cached tzdata-2024.1-py2.py3-none-any.whl (345 kB)\n",
            "Installing collected packages: pytz, tzdata, pandas\n",
            "Successfully installed pandas-2.2.1 pytz-2024.1 tzdata-2024.1\n"
          ]
        }
      ],
      "source": [
        "# %pip install python-csv\n",
        "!pip install nltk\n",
        "!pip install scikit-learn\n",
        "!pip install pandas"
      ]
    },
    {
      "cell_type": "code",
      "execution_count": 2,
      "metadata": {
        "id": "x4EYcSts0dOb"
      },
      "outputs": [],
      "source": [
        "import pandas as pd\n",
        "import nltk\n",
        "from sklearn.feature_extraction.text import TfidfVectorizer\n",
        "from sklearn.svm import SVC\n",
        "from nltk.corpus import stopwords\n",
        "from sklearn.pipeline import make_pipeline"
      ]
    },
    {
      "cell_type": "code",
      "execution_count": 3,
      "metadata": {
        "colab": {
          "base_uri": "https://localhost:8080/"
        },
        "id": "gCbPb-Kw0dOb",
        "outputId": "2643a026-67ce-402e-b55a-571dfbb57586"
      },
      "outputs": [
        {
          "name": "stderr",
          "output_type": "stream",
          "text": [
            "[nltk_data] Downloading package stopwords to\n",
            "[nltk_data]     C:\\Users\\anton\\AppData\\Roaming\\nltk_data...\n",
            "[nltk_data]   Package stopwords is already up-to-date!\n",
            "[nltk_data] Downloading package punkt to\n",
            "[nltk_data]     C:\\Users\\anton\\AppData\\Roaming\\nltk_data...\n",
            "[nltk_data]   Unzipping tokenizers\\punkt.zip.\n"
          ]
        },
        {
          "data": {
            "text/plain": [
              "True"
            ]
          },
          "execution_count": 3,
          "metadata": {},
          "output_type": "execute_result"
        }
      ],
      "source": [
        "nltk.download('stopwords')\n",
        "nltk.download('punkt')"
      ]
    },
    {
      "cell_type": "code",
      "execution_count": 4,
      "metadata": {
        "colab": {
          "base_uri": "https://localhost:8080/",
          "height": 339
        },
        "id": "HmlGlPi30dOb",
        "outputId": "f78f132d-dd14-4191-8069-fc560a4f62fb"
      },
      "outputs": [],
      "source": [
        "\n",
        "# Step 1: Load the CSV file\n",
        "# def load_data():\n",
        "#    from google.colab import drive\n",
        "#    drive.mount('/content/drive')\n",
        "# load_data()"
      ]
    },
    {
      "cell_type": "code",
      "execution_count": 5,
      "metadata": {
        "id": "CmnD5MWj0dOb"
      },
      "outputs": [],
      "source": [
        "# Step 2: Preprocess the text data\n",
        "def preprocess_text(text):\n",
        "    stop_words = set(stopwords.words('english'))\n",
        "    tokens = nltk.word_tokenize(text.lower())  # Tokenization and convert to lowercase\n",
        "    filtered_tokens = [word for word in tokens if word.isalnum() and word not in stop_words]\n",
        "    return ' '.join(filtered_tokens)\n"
      ]
    },
    {
      "cell_type": "code",
      "execution_count": 6,
      "metadata": {
        "id": "VFlMFmi90dOc"
      },
      "outputs": [],
      "source": [
        "# Step 3: Train a classification model\n",
        "def train_model(texts, labels):\n",
        "    vectorizer = TfidfVectorizer(preprocessor=preprocess_text)\n",
        "    classifier = SVC(kernel='linear', verbose=True)\n",
        "    model = make_pipeline(vectorizer, classifier)\n",
        "    model.fit(texts, labels)\n",
        "    return model"
      ]
    },
    {
      "cell_type": "code",
      "execution_count": 7,
      "metadata": {
        "id": "PuDbiqVC0dOc"
      },
      "outputs": [],
      "source": [
        "# Step 4 & 5: Accept user input and preprocess it\n",
        "def preprocess_user_input(user_input):\n",
        "    return preprocess_text(user_input)"
      ]
    },
    {
      "cell_type": "code",
      "execution_count": 8,
      "metadata": {
        "id": "_VMFihXe0dOc"
      },
      "outputs": [],
      "source": [
        "# Step 6: Use the trained model to predict\n",
        "def predict_suicidal_tendencies(model, user_input):\n",
        "    preprocessed_input = preprocess_user_input(user_input)\n",
        "    prediction = model.predict([preprocessed_input])\n",
        "    return prediction[0]\n"
      ]
    },
    {
      "cell_type": "code",
      "execution_count": 9,
      "metadata": {
        "id": "nokoDUmj0dOc"
      },
      "outputs": [],
      "source": [
        "# # Main function\n",
        "# if __name__ == \"__main__\":\n",
        "#     # Load data\n",
        "#     texts, labels = load_data('detection_final_cleaned.csv')\n",
        "#     print(\"----\",texts)\n",
        "#     print(\">>>\",labels)\n",
        "\n",
        "    # # Train model\n",
        "    # model = train_model(texts, labels)\n",
        "\n",
        "    # # Accept user input\n",
        "    # user_input = input(\"Enter your response: \")\n",
        "\n",
        "    # # Predict\n",
        "    # prediction = predict_suicidal_tendencies(model, user_input)\n",
        "    # if prediction == 'suicidal':\n",
        "    #     print(\"The input indicates suicidal tendencies.\")\n",
        "    # else:\n",
        "    #     print(\"The input does not indicate suicidal tendencies.\")"
      ]
    },
    {
      "cell_type": "code",
      "execution_count": 11,
      "metadata": {
        "id": "rFS7w-nQ3qx_"
      },
      "outputs": [],
      "source": [
        "filename=\"detection_final_cleaned.csv\"\n",
        "data = pd.read_csv(filename)"
      ]
    },
    {
      "cell_type": "code",
      "execution_count": 12,
      "metadata": {
        "id": "rlDjkDaH4FNF"
      },
      "outputs": [
        {
          "data": {
            "text/html": [
              "<div>\n",
              "<style scoped>\n",
              "    .dataframe tbody tr th:only-of-type {\n",
              "        vertical-align: middle;\n",
              "    }\n",
              "\n",
              "    .dataframe tbody tr th {\n",
              "        vertical-align: top;\n",
              "    }\n",
              "\n",
              "    .dataframe thead th {\n",
              "        text-align: right;\n",
              "    }\n",
              "</style>\n",
              "<table border=\"1\" class=\"dataframe\">\n",
              "  <thead>\n",
              "    <tr style=\"text-align: right;\">\n",
              "      <th></th>\n",
              "      <th>class</th>\n",
              "      <th>text</th>\n",
              "    </tr>\n",
              "  </thead>\n",
              "  <tbody>\n",
              "    <tr>\n",
              "      <th>0</th>\n",
              "      <td>suicide</td>\n",
              "      <td>Ex Wife Threatening SuicideRecently I left my ...</td>\n",
              "    </tr>\n",
              "    <tr>\n",
              "      <th>1</th>\n",
              "      <td>non-suicide</td>\n",
              "      <td>Am I weird I don't get affected by compliments...</td>\n",
              "    </tr>\n",
              "    <tr>\n",
              "      <th>2</th>\n",
              "      <td>non-suicide</td>\n",
              "      <td>Finally 2020 is almost over... So I can never ...</td>\n",
              "    </tr>\n",
              "    <tr>\n",
              "      <th>3</th>\n",
              "      <td>suicide</td>\n",
              "      <td>i need helpjust help me im crying so hard</td>\n",
              "    </tr>\n",
              "    <tr>\n",
              "      <th>4</th>\n",
              "      <td>suicide</td>\n",
              "      <td>It ends tonight.I can’t do it anymore. \\nI quit.</td>\n",
              "    </tr>\n",
              "  </tbody>\n",
              "</table>\n",
              "</div>"
            ],
            "text/plain": [
              "         class                                               text\n",
              "0      suicide  Ex Wife Threatening SuicideRecently I left my ...\n",
              "1  non-suicide  Am I weird I don't get affected by compliments...\n",
              "2  non-suicide  Finally 2020 is almost over... So I can never ...\n",
              "3      suicide          i need helpjust help me im crying so hard\n",
              "4      suicide   It ends tonight.I can’t do it anymore. \\nI quit."
            ]
          },
          "execution_count": 12,
          "metadata": {},
          "output_type": "execute_result"
        }
      ],
      "source": [
        "data = data.drop('cleaned_text', axis=1)\n",
        "data.head()"
      ]
    },
    {
      "cell_type": "code",
      "execution_count": 13,
      "metadata": {
        "id": "izncOgx26FZS"
      },
      "outputs": [
        {
          "data": {
            "text/html": [
              "<div>\n",
              "<style scoped>\n",
              "    .dataframe tbody tr th:only-of-type {\n",
              "        vertical-align: middle;\n",
              "    }\n",
              "\n",
              "    .dataframe tbody tr th {\n",
              "        vertical-align: top;\n",
              "    }\n",
              "\n",
              "    .dataframe thead th {\n",
              "        text-align: right;\n",
              "    }\n",
              "</style>\n",
              "<table border=\"1\" class=\"dataframe\">\n",
              "  <thead>\n",
              "    <tr style=\"text-align: right;\">\n",
              "      <th></th>\n",
              "      <th>predict</th>\n",
              "      <th>text</th>\n",
              "    </tr>\n",
              "  </thead>\n",
              "  <tbody>\n",
              "    <tr>\n",
              "      <th>0</th>\n",
              "      <td>suicide</td>\n",
              "      <td>Ex Wife Threatening SuicideRecently I left my ...</td>\n",
              "    </tr>\n",
              "    <tr>\n",
              "      <th>1</th>\n",
              "      <td>non-suicide</td>\n",
              "      <td>Am I weird I don't get affected by compliments...</td>\n",
              "    </tr>\n",
              "    <tr>\n",
              "      <th>2</th>\n",
              "      <td>non-suicide</td>\n",
              "      <td>Finally 2020 is almost over... So I can never ...</td>\n",
              "    </tr>\n",
              "    <tr>\n",
              "      <th>3</th>\n",
              "      <td>suicide</td>\n",
              "      <td>i need helpjust help me im crying so hard</td>\n",
              "    </tr>\n",
              "    <tr>\n",
              "      <th>4</th>\n",
              "      <td>suicide</td>\n",
              "      <td>It ends tonight.I can’t do it anymore. \\nI quit.</td>\n",
              "    </tr>\n",
              "  </tbody>\n",
              "</table>\n",
              "</div>"
            ],
            "text/plain": [
              "       predict                                               text\n",
              "0      suicide  Ex Wife Threatening SuicideRecently I left my ...\n",
              "1  non-suicide  Am I weird I don't get affected by compliments...\n",
              "2  non-suicide  Finally 2020 is almost over... So I can never ...\n",
              "3      suicide          i need helpjust help me im crying so hard\n",
              "4      suicide   It ends tonight.I can’t do it anymore. \\nI quit."
            ]
          },
          "execution_count": 13,
          "metadata": {},
          "output_type": "execute_result"
        }
      ],
      "source": [
        "data = data.rename(columns={'class': 'predict'})\n",
        "data.head()"
      ]
    },
    {
      "cell_type": "code",
      "execution_count": 14,
      "metadata": {
        "id": "z2TJoYmx7JCw"
      },
      "outputs": [],
      "source": [
        "texts = data['text'].tolist()\n",
        "labels = data['predict'].tolist()"
      ]
    },
    {
      "cell_type": "code",
      "execution_count": 15,
      "metadata": {
        "id": "p0FAfHVc7PLN"
      },
      "outputs": [],
      "source": [
        "# labels[0:5]"
      ]
    },
    {
      "cell_type": "markdown",
      "metadata": {
        "id": "Ms3bexpI7t3l"
      },
      "source": [
        "## train the model\n",
        "---"
      ]
    },
    {
      "cell_type": "code",
      "execution_count": 16,
      "metadata": {
        "colab": {
          "base_uri": "https://localhost:8080/",
          "height": 141
        },
        "id": "W0s98l-kOd9-",
        "outputId": "d2da806d-2726-4079-e883-9636a102d004"
      },
      "outputs": [
        {
          "name": "stdout",
          "output_type": "stream",
          "text": [
            "[LibSVM]"
          ]
        }
      ],
      "source": [
        "model = train_model(texts, labels)"
      ]
    },
    {
      "cell_type": "code",
      "execution_count": 10,
      "metadata": {
        "id": "3PKRYADwOkLg"
      },
      "outputs": [],
      "source": [
        "# Accept user input\n",
        "user_input = input(\"Enter your response: \")\n",
        "\n",
        "# Predict\n",
        "prediction = predict_suicidal_tendencies(model, user_input)\n",
        "if prediction == 'suicidal':\n",
        "    print(\"The input indicates suicidal tendencies.\")\n",
        "else:\n",
        "    print(\"The input does not indicate suicidal tendencies.\")"
      ]
    },
    {
      "cell_type": "code",
      "execution_count": 16,
      "metadata": {},
      "outputs": [
        {
          "name": "stdout",
          "output_type": "stream",
          "text": [
            "True Labels: 0         1\n",
            "1         0\n",
            "2         0\n",
            "3         1\n",
            "4         1\n",
            "         ..\n",
            "174431    0\n",
            "174432    0\n",
            "174433    0\n",
            "174434    0\n",
            "174435    0\n",
            "Name: class, Length: 174372, dtype: int64\n",
            "Predicted Labels: [0. 0. 0. ... 0. 0. 0.]\n"
          ]
        },
        {
          "data": {
            "image/png": "[encoded data removed]",
            "text/plain": [
              "<Figure size 800x600 with 2 Axes>"
            ]
          },
          "metadata": {},
          "output_type": "display_data"
        }
      ],
      "source": [
        "import pandas as pd\n",
        "import numpy as np\n",
        "import matplotlib.pyplot as plt\n",
        "from sklearn.metrics import confusion_matrix\n",
        "\n",
        "# Load the dataset\n",
        "data = pd.read_csv('final_cleaned_processed_text.csv')\n",
        "\n",
        "# Drop rows with NaN values\n",
        "data.dropna(inplace=True)\n",
        "\n",
        "# Convert class labels to numeric values\n",
        "data['class'] = data['class'].map({'suicide': 1, 'non-suicide': 0})\n",
        "\n",
        "# Extract true labels\n",
        "true_labels = data['class']\n",
        "\n",
        "# Example predicted labels (replace this with the predicted labels from your model)\n",
        "# Here, I'm just assuming all predictions are non-suicidal (0) for demonstration purposes\n",
        "predicted_labels = np.zeros(len(data))\n",
        "\n",
        "print(\"True Labels:\", true_labels)\n",
        "print(\"Predicted Labels:\", predicted_labels)\n",
        "\n",
        "# Create confusion matrix\n",
        "cm = confusion_matrix(true_labels, predicted_labels)\n",
        "\n",
        "# Plot confusion matrix (same as before)\n",
        "plt.figure(figsize=(8, 6))\n",
        "plt.imshow(cm, interpolation='nearest', cmap=plt.cm.Blues)\n",
        "plt.title('Confusion Matrix')\n",
        "plt.colorbar()\n",
        "classes = ['Non-Suicidal', 'Suicidal']\n",
        "tick_marks = np.arange(len(classes))\n",
        "plt.xticks(tick_marks, classes, rotation=45)\n",
        "plt.yticks(tick_marks, classes)\n",
        "plt.xlabel('Predicted Label')\n",
        "plt.ylabel('True Label')\n",
        "plt.tight_layout()\n",
        "plt.show()\n"
      ]
    },
    {
      "cell_type": "code",
      "execution_count": 17,
      "metadata": {},
      "outputs": [
        {
          "data": {
            "image/png": "[encoded data removed]",
            "text/plain": [
              "<Figure size 800x600 with 1 Axes>"
            ]
          },
          "metadata": {},
          "output_type": "display_data"
        }
      ],
      "source": [
        "import matplotlib.pyplot as plt\n",
        "\n",
        "# Example accuracy scores (replace this with your actual accuracy scores)\n",
        "accuracy_scores = [0.75, 0.80, 0.85, 0.90, 0.92]\n",
        "\n",
        "# Generate x-axis values (epochs or iterations)\n",
        "epochs = range(1, len(accuracy_scores) + 1)\n",
        "\n",
        "# Plot the accuracy graph\n",
        "plt.figure(figsize=(8, 6))\n",
        "plt.plot(epochs, accuracy_scores, marker='o', linestyle='-')\n",
        "plt.title('Model Accuracy Over Time')\n",
        "plt.xlabel('Epochs')\n",
        "plt.ylabel('Accuracy')\n",
        "plt.xticks(epochs)\n",
        "plt.grid(True)\n",
        "plt.show()\n"
      ]
    }
  ],
  "metadata": {
    "accelerator": "TPU",
    "colab": {
      "provenance": [],
      "toc_visible": true
    },
    "kernelspec": {
      "display_name": "Python 3",
      "name": "python3"
    },
    "language_info": {
      "codemirror_mode": {
        "name": "ipython",
        "version": 3
      },
      "file_extension": ".py",
      "mimetype": "text/x-python",
      "name": "python",
      "nbconvert_exporter": "python",
      "pygments_lexer": "ipython3",
      "version": "3.12.1"
    }
  },
  "nbformat": 4,
  "nbformat_minor": 0
}
